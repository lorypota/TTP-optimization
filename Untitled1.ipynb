{
 "cells": [
  {
   "cell_type": "markdown",
   "id": "d41a8467",
   "metadata": {},
   "source": [
    "# Column Generation for the TTP"
   ]
  },
  {
   "cell_type": "code",
   "execution_count": 2,
   "id": "0673ed38",
   "metadata": {},
   "outputs": [],
   "source": [
    "import numpy as np\n",
    "from copy import deepcopy\n",
    "import time, math, heapq\n",
    "from itertools import product, combinations\n",
    "import gurobipy as gp\n",
    "from gurobipy import GRB\n",
    "import pandas as pd"
   ]
  },
  {
   "cell_type": "markdown",
   "id": "e48eca5c",
   "metadata": {},
   "source": [
    "The data for the instanc"
   ]
  }
 ],
 "metadata": {
  "kernelspec": {
   "display_name": "Python 3 (ipykernel)",
   "language": "python",
   "name": "python3"
  },
  "language_info": {
   "codemirror_mode": {
    "name": "ipython",
    "version": 3
   },
   "file_extension": ".py",
   "mimetype": "text/x-python",
   "name": "python",
   "nbconvert_exporter": "python",
   "pygments_lexer": "ipython3",
   "version": "3.13.7"
  }
 },
 "nbformat": 4,
 "nbformat_minor": 5
}
