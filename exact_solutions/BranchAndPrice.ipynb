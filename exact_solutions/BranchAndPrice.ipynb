{
 "cells": [
  {
   "cell_type": "code",
   "execution_count": 1,
   "id": "68cac52c-87fa-42b4-acaf-b295309d4ff4",
   "metadata": {},
   "outputs": [],
   "source": [
    "import numpy as np\n",
    "import pandas as pd \n",
    "import gurobipy as gp\n",
    "from gurobipy import GRB\n",
    "from bs4 import BeautifulSoup\n",
    "import lxml"
   ]
  },
  {
   "cell_type": "code",
   "execution_count": 2,
   "id": "20bbbad3-d9ed-4571-a609-bfb1895dc3f5",
   "metadata": {},
   "outputs": [],
   "source": [
    "with open('NL4.xml', 'r') as f:\n",
    "    data = f.read()"
   ]
  },
  {
   "cell_type": "code",
   "execution_count": 3,
   "id": "c4fd67ac-9790-443d-bda0-86015369152e",
   "metadata": {},
   "outputs": [],
   "source": [
    "Bs_data = BeautifulSoup(data, \"xml\")"
   ]
  },
  {
   "cell_type": "code",
   "execution_count": 4,
   "id": "15c1a3c0-72de-4cc0-9e88-542fadde79f3",
   "metadata": {},
   "outputs": [
    {
     "data": {
      "text/plain": [
       "<?xml version=\"1.0\" encoding=\"utf-8\"?>\n",
       "<Instance>\n",
       "<MetaData>\n",
       "<InstanceName>NL4</InstanceName>\n",
       "<DataType>A</DataType>\n",
       "<Contributor>Easton, Nemhauser, and Trick</Contributor>\n",
       "<Date day=\"0\" month=\"0\" year=\"2001\"/>\n",
       "<Country/>\n",
       "<Remarks>Based on National Hockey League</Remarks>\n",
       "<Lowerbound infeasibility=\"0\" objective=\"0\"/>\n",
       "</MetaData>\n",
       "<Structure>\n",
       "<Format leagueIds=\"0\">\n",
       "<numberRoundRobin>2</numberRoundRobin>\n",
       "<compactness>C</compactness>\n",
       "</Format>\n",
       "<AdditionalGames/>\n",
       "</Structure>\n",
       "<ObjectiveFunction>\n",
       "<Objective>TR</Objective>\n",
       "</ObjectiveFunction>\n",
       "<Data>\n",
       "<Distances>\n",
       "<distance dist=\"0\" team1=\"0\" team2=\"0\"/>\n",
       "<distance dist=\"745\" team1=\"0\" team2=\"1\"/>\n",
       "<distance dist=\"665\" team1=\"0\" team2=\"2\"/>\n",
       "<distance dist=\"929\" team1=\"0\" team2=\"3\"/>\n",
       "<distance dist=\"745\" team1=\"1\" team2=\"0\"/>\n",
       "<distance dist=\"0\" team1=\"1\" team2=\"1\"/>\n",
       "<distance dist=\"80\" team1=\"1\" team2=\"2\"/>\n",
       "<distance dist=\"337\" team1=\"1\" team2=\"3\"/>\n",
       "<distance dist=\"665\" team1=\"2\" team2=\"0\"/>\n",
       "<distance dist=\"80\" team1=\"2\" team2=\"1\"/>\n",
       "<distance dist=\"0\" team1=\"2\" team2=\"2\"/>\n",
       "<distance dist=\"380\" team1=\"2\" team2=\"3\"/>\n",
       "<distance dist=\"929\" team1=\"3\" team2=\"0\"/>\n",
       "<distance dist=\"337\" team1=\"3\" team2=\"1\"/>\n",
       "<distance dist=\"380\" team1=\"3\" team2=\"2\"/>\n",
       "<distance dist=\"0\" team1=\"3\" team2=\"3\"/>\n",
       "</Distances>\n",
       "<COEWeights/>\n",
       "<Costs/>\n",
       "</Data>\n",
       "<Resources>\n",
       "<TeamGroups>\n",
       "<teamGroup id=\"0\" name=\"All teams\"/>\n",
       "</TeamGroups>\n",
       "<LeagueGroups/>\n",
       "<Leagues>\n",
       "<league id=\"0\" name=\"League 0\"/>\n",
       "</Leagues>\n",
       "<Teams>\n",
       "<team id=\"0\" league=\"0\" name=\"ATL\" teamGroups=\"0\"/>\n",
       "<team id=\"1\" league=\"0\" name=\"NYM\" teamGroups=\"0\"/>\n",
       "<team id=\"2\" league=\"0\" name=\"PHI\" teamGroups=\"0\"/>\n",
       "<team id=\"3\" league=\"0\" name=\"MON\" teamGroups=\"0\"/>\n",
       "</Teams>\n",
       "<SlotGroups/>\n",
       "<Slots>\n",
       "<slot id=\"0\" name=\"Slot0\"/>\n",
       "<slot id=\"1\" name=\"Slot1\"/>\n",
       "<slot id=\"2\" name=\"Slot2\"/>\n",
       "<slot id=\"3\" name=\"Slot3\"/>\n",
       "<slot id=\"4\" name=\"Slot4\"/>\n",
       "<slot id=\"5\" name=\"Slot5\"/>\n",
       "</Slots>\n",
       "</Resources>\n",
       "<Constraints>\n",
       "<BasicConstraints/>\n",
       "<CapacityConstraints>\n",
       "<CA3 intp=\"4\" max=\"3\" min=\"0\" mode1=\"H\" mode2=\"GAMES\" penalty=\"1\" teamGroups1=\"0\" teamGroups2=\"0\" type=\"HARD\"/>\n",
       "<CA3 intp=\"4\" max=\"3\" min=\"0\" mode1=\"A\" mode2=\"GAMES\" penalty=\"1\" teamGroups1=\"0\" teamGroups2=\"0\" type=\"HARD\"/>\n",
       "</CapacityConstraints>\n",
       "<GameConstraints/>\n",
       "<BreakConstraints/>\n",
       "<FairnessConstraints/>\n",
       "<SeparationConstraints>\n",
       "<SE1 max=\"6\" min=\"1\" penalty=\"1\" teamGroups=\"0\" type=\"HARD\"/>\n",
       "</SeparationConstraints>\n",
       "</Constraints>\n",
       "</Instance>"
      ]
     },
     "execution_count": 4,
     "metadata": {},
     "output_type": "execute_result"
    }
   ],
   "source": [
    "Bs_data"
   ]
  },
  {
   "cell_type": "code",
   "execution_count": 5,
   "id": "57d7e204-eb3c-4dc9-bb92-88e4574d4827",
   "metadata": {},
   "outputs": [
    {
     "name": "stdout",
     "output_type": "stream",
     "text": [
      "<distance dist=\"0\" team1=\"0\" team2=\"0\"/>\n",
      "<distance dist=\"745\" team1=\"0\" team2=\"1\"/>\n",
      "<distance dist=\"665\" team1=\"0\" team2=\"2\"/>\n",
      "<distance dist=\"929\" team1=\"0\" team2=\"3\"/>\n",
      "<distance dist=\"745\" team1=\"1\" team2=\"0\"/>\n",
      "<distance dist=\"0\" team1=\"1\" team2=\"1\"/>\n",
      "<distance dist=\"80\" team1=\"1\" team2=\"2\"/>\n",
      "<distance dist=\"337\" team1=\"1\" team2=\"3\"/>\n",
      "<distance dist=\"665\" team1=\"2\" team2=\"0\"/>\n",
      "<distance dist=\"80\" team1=\"2\" team2=\"1\"/>\n",
      "<distance dist=\"0\" team1=\"2\" team2=\"2\"/>\n",
      "<distance dist=\"380\" team1=\"2\" team2=\"3\"/>\n",
      "<distance dist=\"929\" team1=\"3\" team2=\"0\"/>\n",
      "<distance dist=\"337\" team1=\"3\" team2=\"1\"/>\n",
      "<distance dist=\"380\" team1=\"3\" team2=\"2\"/>\n",
      "<distance dist=\"0\" team1=\"3\" team2=\"3\"/>\n"
     ]
    }
   ],
   "source": [
    "raw_distance_entries = Bs_data.find_all(\"distance\")\n",
    "distances = []\n",
    "team1nrs = []\n",
    "team2nrs = []\n",
    "for e in raw_distance_entries:\n",
    "    print(e)\n",
    "    distances.append(e.get(\"dist\"))\n",
    "    team1nrs.append(e.get(\"team1\"))\n",
    "    team2nrs.append(e.get(\"team2\"))\n",
    "\n",
    "DF = pd.DataFrame(np.array([distances, team1nrs, team2nrs]).T, columns = [\"distance\", \"team1\", \"team2\"])"
   ]
  },
  {
   "cell_type": "code",
   "execution_count": 6,
   "id": "4b65fd35-747d-4b91-98a4-68da9855f9e4",
   "metadata": {},
   "outputs": [
    {
     "data": {
      "text/html": [
       "<div>\n",
       "<style scoped>\n",
       "    .dataframe tbody tr th:only-of-type {\n",
       "        vertical-align: middle;\n",
       "    }\n",
       "\n",
       "    .dataframe tbody tr th {\n",
       "        vertical-align: top;\n",
       "    }\n",
       "\n",
       "    .dataframe thead th {\n",
       "        text-align: right;\n",
       "    }\n",
       "</style>\n",
       "<table border=\"1\" class=\"dataframe\">\n",
       "  <thead>\n",
       "    <tr style=\"text-align: right;\">\n",
       "      <th></th>\n",
       "      <th>distance</th>\n",
       "      <th>team1</th>\n",
       "      <th>team2</th>\n",
       "    </tr>\n",
       "  </thead>\n",
       "  <tbody>\n",
       "    <tr>\n",
       "      <th>0</th>\n",
       "      <td>0</td>\n",
       "      <td>0</td>\n",
       "      <td>0</td>\n",
       "    </tr>\n",
       "    <tr>\n",
       "      <th>1</th>\n",
       "      <td>745</td>\n",
       "      <td>0</td>\n",
       "      <td>1</td>\n",
       "    </tr>\n",
       "    <tr>\n",
       "      <th>2</th>\n",
       "      <td>665</td>\n",
       "      <td>0</td>\n",
       "      <td>2</td>\n",
       "    </tr>\n",
       "    <tr>\n",
       "      <th>3</th>\n",
       "      <td>929</td>\n",
       "      <td>0</td>\n",
       "      <td>3</td>\n",
       "    </tr>\n",
       "    <tr>\n",
       "      <th>4</th>\n",
       "      <td>745</td>\n",
       "      <td>1</td>\n",
       "      <td>0</td>\n",
       "    </tr>\n",
       "    <tr>\n",
       "      <th>5</th>\n",
       "      <td>0</td>\n",
       "      <td>1</td>\n",
       "      <td>1</td>\n",
       "    </tr>\n",
       "    <tr>\n",
       "      <th>6</th>\n",
       "      <td>80</td>\n",
       "      <td>1</td>\n",
       "      <td>2</td>\n",
       "    </tr>\n",
       "    <tr>\n",
       "      <th>7</th>\n",
       "      <td>337</td>\n",
       "      <td>1</td>\n",
       "      <td>3</td>\n",
       "    </tr>\n",
       "    <tr>\n",
       "      <th>8</th>\n",
       "      <td>665</td>\n",
       "      <td>2</td>\n",
       "      <td>0</td>\n",
       "    </tr>\n",
       "    <tr>\n",
       "      <th>9</th>\n",
       "      <td>80</td>\n",
       "      <td>2</td>\n",
       "      <td>1</td>\n",
       "    </tr>\n",
       "    <tr>\n",
       "      <th>10</th>\n",
       "      <td>0</td>\n",
       "      <td>2</td>\n",
       "      <td>2</td>\n",
       "    </tr>\n",
       "    <tr>\n",
       "      <th>11</th>\n",
       "      <td>380</td>\n",
       "      <td>2</td>\n",
       "      <td>3</td>\n",
       "    </tr>\n",
       "    <tr>\n",
       "      <th>12</th>\n",
       "      <td>929</td>\n",
       "      <td>3</td>\n",
       "      <td>0</td>\n",
       "    </tr>\n",
       "    <tr>\n",
       "      <th>13</th>\n",
       "      <td>337</td>\n",
       "      <td>3</td>\n",
       "      <td>1</td>\n",
       "    </tr>\n",
       "    <tr>\n",
       "      <th>14</th>\n",
       "      <td>380</td>\n",
       "      <td>3</td>\n",
       "      <td>2</td>\n",
       "    </tr>\n",
       "    <tr>\n",
       "      <th>15</th>\n",
       "      <td>0</td>\n",
       "      <td>3</td>\n",
       "      <td>3</td>\n",
       "    </tr>\n",
       "  </tbody>\n",
       "</table>\n",
       "</div>"
      ],
      "text/plain": [
       "   distance team1 team2\n",
       "0         0     0     0\n",
       "1       745     0     1\n",
       "2       665     0     2\n",
       "3       929     0     3\n",
       "4       745     1     0\n",
       "5         0     1     1\n",
       "6        80     1     2\n",
       "7       337     1     3\n",
       "8       665     2     0\n",
       "9        80     2     1\n",
       "10        0     2     2\n",
       "11      380     2     3\n",
       "12      929     3     0\n",
       "13      337     3     1\n",
       "14      380     3     2\n",
       "15        0     3     3"
      ]
     },
     "execution_count": 6,
     "metadata": {},
     "output_type": "execute_result"
    }
   ],
   "source": [
    "DF"
   ]
  },
  {
   "cell_type": "code",
   "execution_count": 7,
   "id": "84e07d61-f2ec-4525-88ca-4537fd2d51c6",
   "metadata": {},
   "outputs": [
    {
     "data": {
      "text/plain": [
       "{'0': 'ATL', '1': 'NYM', '2': 'PHI', '3': 'MON'}"
      ]
     },
     "execution_count": 7,
     "metadata": {},
     "output_type": "execute_result"
    }
   ],
   "source": [
    "raw_team_entries = Bs_data.find_all(\"team\")\n",
    "team_dict = {}\n",
    "for e in raw_team_entries:\n",
    "    team_dict[e.get(\"id\")] = e.get(\"name\")\n",
    "team_dict"
   ]
  },
  {
   "cell_type": "code",
   "execution_count": 8,
   "id": "e9d38368-1b7d-4db4-a78f-225c1b41a344",
   "metadata": {},
   "outputs": [],
   "source": [
    "import networkx as nx\n",
    "from networkx.drawing.nx_agraph import graphviz_layout\n",
    "from networkx.drawing.nx_agraph import to_agraph"
   ]
  },
  {
   "cell_type": "code",
   "execution_count": 9,
   "id": "f7738ae6-3db4-4b60-8a24-7eb03bf4f2a3",
   "metadata": {},
   "outputs": [],
   "source": [
    "arcs = list(DF[[\"team1\", \"team2\"]].itertuples(index=False, name=None))"
   ]
  },
  {
   "cell_type": "code",
   "execution_count": 10,
   "id": "5fcc1007-e479-45a3-b47a-e124053df077",
   "metadata": {},
   "outputs": [
    {
     "name": "stdout",
     "output_type": "stream",
     "text": [
      "0 - 0 - 0\n",
      "745 - 0 - 1\n",
      "665 - 0 - 2\n",
      "929 - 0 - 3\n",
      "745 - 1 - 0\n",
      "0 - 1 - 1\n",
      "80 - 1 - 2\n",
      "337 - 1 - 3\n",
      "665 - 2 - 0\n",
      "80 - 2 - 1\n",
      "0 - 2 - 2\n",
      "380 - 2 - 3\n",
      "929 - 3 - 0\n",
      "337 - 3 - 1\n",
      "380 - 3 - 2\n",
      "0 - 3 - 3\n"
     ]
    }
   ],
   "source": [
    "for i in range(DF.shape[0]):\n",
    "    print(f\"{DF[\"distance\"][i]} - {DF[\"team1\"][i]} - {DF[\"team2\"][i]}\")"
   ]
  },
  {
   "cell_type": "code",
   "execution_count": 11,
   "id": "89ceddbf-7103-4803-96cf-7b488d3263cd",
   "metadata": {},
   "outputs": [
    {
     "data": {
      "text/plain": [
       "{('0', '0', 0): Text(0.3102604913009266, 0.26042605533899343, '0'),\n",
       " ('0', '1', 0): Text(0.4869386039942598, -0.34948851480513277, '745'),\n",
       " ('0', '2', 0): Text(-0.02855713994055742, 0.5411503450478865, '665'),\n",
       " ('0', '3', 0): Text(-0.1481220891693844, -0.10936625612329476, '929'),\n",
       " ('1', '0', 0): Text(0.4869357293461942, -0.3494814893873829, '745'),\n",
       " ('1', '1', 0): Text(0.6636138420395274, -0.6031422305257801, '0'),\n",
       " ('1', '2', 0): Text(0.14811759801321378, 0.10936976306350643, '80'),\n",
       " ('1', '3', 0): Text(0.028552974231055184, -0.5411482116076671, '337'),\n",
       " ('2', '0', 0): Text(-0.02855599596081404, 0.5411487957882422, '665'),\n",
       " ('2', '1', 0): Text(0.14812261682401584, 0.10936109190784893, '80'),\n",
       " ('2', '2', 0): Text(-0.3673736272022979, 1.1781269145028637, '0'),\n",
       " ('2', '3', 0): Text(-0.48693472975465624, 0.34949826073793355, '380'),\n",
       " ('3', '0', 0): Text(-0.148118125667846, -0.1093645988480666, '929'),\n",
       " ('3', '1', 0): Text(0.028560161670315387, -0.5411509292284679, '337'),\n",
       " ('3', '2', 0): Text(-0.48693960358579863, 0.3494717434545753, '380'),\n",
       " ('3', '3', 0): Text(-0.606500706138157, -0.12290308130462624, '0')}"
      ]
     },
     "execution_count": 11,
     "metadata": {},
     "output_type": "execute_result"
    },
    {
     "data": {
      "image/png": "[encoded data removed]",
      "text/plain": [
       "<Figure size 640x480 with 1 Axes>"
      ]
     },
     "metadata": {},
     "output_type": "display_data"
    }
   ],
   "source": [
    "G = nx.MultiDiGraph()\n",
    "for entry in team_dict:\n",
    "    G.add_node(entry)\n",
    "\n",
    "for i in range(DF.shape[0]):\n",
    "    distance = int(DF[\"distance\"][i])\n",
    "    length = 0\n",
    "    if int(distance) > 0:\n",
    "        length = 1/int(distance)\n",
    "    team1 = DF[\"team1\"][i]\n",
    "    team2 = DF[\"team2\"][i]\n",
    "    G.add_edge(team1, team2, weight=distance, length=length)\n",
    "\n",
    "pos = nx.spring_layout(G)\n",
    "\n",
    "nx.draw(G, pos=pos, with_labels=True, labels=team_dict, node_size = 1000)\n",
    "nx.draw_networkx_edge_labels(G, pos, edge_labels=nx.get_edge_attributes(G, \"weight\"), verticalalignment=\"top\")"
   ]
  },
  {
   "cell_type": "markdown",
   "id": "e78f4b0a-d386-46ae-9bf7-78c042b1a050",
   "metadata": {},
   "source": [
    "#### Column Generation"
   ]
  },
  {
   "cell_type": "markdown",
   "id": "6c6dbea3-1196-4ac0-a026-08599b99aaa8",
   "metadata": {},
   "source": [
    "- Implement regular CG\n",
    "- Try to see if getting integer solutions is possible when fixing probabilities that are almost 1."
   ]
  },
  {
   "cell_type": "code",
   "execution_count": null,
   "id": "f51bf67c-a13d-4f3d-aedc-9eb1a6e692b7",
   "metadata": {},
   "outputs": [],
   "source": []
  }
 ],
 "metadata": {
  "kernelspec": {
   "display_name": "Python 3 (ipykernel)",
   "language": "python",
   "name": "python3"
  },
  "language_info": {
   "codemirror_mode": {
    "name": "ipython",
    "version": 3
   },
   "file_extension": ".py",
   "mimetype": "text/x-python",
   "name": "python",
   "nbconvert_exporter": "python",
   "pygments_lexer": "ipython3",
   "version": "3.13.7"
  }
 },
 "nbformat": 4,
 "nbformat_minor": 5
}
